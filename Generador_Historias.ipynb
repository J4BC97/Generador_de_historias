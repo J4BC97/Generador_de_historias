{
  "nbformat": 4,
  "nbformat_minor": 0,
  "metadata": {
    "colab": {
      "provenance": [],
      "toc_visible": true,
      "authorship_tag": "ABX9TyPTOQXWHjrZC6rhg6UvPt16",
      "include_colab_link": true
    },
    "kernelspec": {
      "name": "python3",
      "display_name": "Python 3"
    },
    "language_info": {
      "name": "python"
    }
  },
  "cells": [
    {
      "cell_type": "markdown",
      "metadata": {
        "id": "view-in-github",
        "colab_type": "text"
      },
      "source": [
        "<a href=\"https://colab.research.google.com/github/J4BC97/Generador_de_historias/blob/main/Generador_Historias.ipynb\" target=\"_parent\"><img src=\"https://colab.research.google.com/assets/colab-badge.svg\" alt=\"Open In Colab\"/></a>"
      ]
    },
    {
      "cell_type": "markdown",
      "source": [
        "\n",
        "\n",
        "```\n",
        "# Esto tiene formato de código\n",
        "```\n",
        "\n",
        "# Generador de historias interactivas"
      ],
      "metadata": {
        "id": "amql4jzWQVmQ"
      }
    },
    {
      "cell_type": "markdown",
      "source": [],
      "metadata": {
        "id": "VncukZxqwbVT"
      }
    },
    {
      "cell_type": "code",
      "source": [
        "personajes = [\"una princesa\", \"un dragón\", \"un caballero\", \"un mago\"]\n",
        "lugares = [\"en un castillo\", \"en el bosque\", \"en la casa de britney spears\"]\n",
        "acciones = [\"lucha contra\", \"habla con\", \"baila con\", \"huye de\"]"
      ],
      "metadata": {
        "id": "OBAYj54Hoqlp"
      },
      "execution_count": null,
      "outputs": []
    },
    {
      "cell_type": "code",
      "source": [
        "import random\n",
        "\n",
        "# Seleccionar elementos al azar en cada lista\n",
        "personaje = random.choice(personajes)\n",
        "lugar = random.choice(lugares)\n",
        "accion = random.choice(acciones)\n",
        "\n",
        "#Creamos la historia\n",
        "historia = f\"{personaje} {accion} chayan {lugar}.\"\n",
        "\n",
        "#Imprime la historia generada\n",
        "print(historia)"
      ],
      "metadata": {
        "colab": {
          "base_uri": "https://localhost:8080/"
        },
        "id": "of-2FHN2rItS",
        "outputId": "0457004b-cfca-4ec9-af2b-a26191707276"
      },
      "execution_count": null,
      "outputs": [
        {
          "output_type": "stream",
          "name": "stdout",
          "text": [
            "un mago lucha contra chayan en un castillo.\n"
          ]
        }
      ]
    },
    {
      "cell_type": "code",
      "source": [
        "if personaje == \"una princesa\" : print(\"¡Es hora de una historia de princesas!\")\n",
        "else : print(\"¡Esta historia sera de aventuras!\")"
      ],
      "metadata": {
        "colab": {
          "base_uri": "https://localhost:8080/"
        },
        "id": "V9wQdzxdz8HL",
        "outputId": "8fe52164-9f96-4410-ab5c-9bd50ac1a645"
      },
      "execution_count": null,
      "outputs": [
        {
          "output_type": "stream",
          "name": "stdout",
          "text": [
            "¡Esta historia sera de aventuras!\n"
          ]
        }
      ]
    },
    {
      "cell_type": "code",
      "source": [
        "#Repetir el proceso para generar multiples historias\n",
        "#Sintaxis basica de un bucle for variable in secuencia(lista, un rango o numeros)\n",
        "import random\n",
        "\n",
        "for i in range(5):\n",
        "  personaje = random.choice(personajes)\n",
        "  lugar = random.choice(lugares)\n",
        "  accion = random.choice(acciones)\n",
        "\n",
        "  historia = f\"{personaje} {accion} chayan {lugar}.\"\n",
        "\n",
        "  print(f\"Historia {i+1}: {historia} \")"
      ],
      "metadata": {
        "colab": {
          "base_uri": "https://localhost:8080/"
        },
        "id": "39biEgdA1Ls1",
        "outputId": "6e2abbd1-89ff-4e0b-fb4a-d641f961bced"
      },
      "execution_count": null,
      "outputs": [
        {
          "output_type": "stream",
          "name": "stdout",
          "text": [
            "Historia 1: un caballero lucha contra chayan en el bosque. \n",
            "Historia 2: un dragón huye de chayan en la casa de britney spears. \n",
            "Historia 3: un dragón huye de chayan en el bosque. \n",
            "Historia 4: una princesa huye de chayan en el bosque. \n",
            "Historia 5: un caballero habla con chayan en el bosque. \n"
          ]
        }
      ]
    },
    {
      "cell_type": "code",
      "source": [],
      "metadata": {
        "id": "8kj9evr_5QW4"
      },
      "execution_count": null,
      "outputs": []
    }
  ]
}